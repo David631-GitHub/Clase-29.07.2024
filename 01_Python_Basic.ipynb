{
  "nbformat": 4,
  "nbformat_minor": 0,
  "metadata": {
    "colab": {
      "provenance": [],
      "authorship_tag": "ABX9TyONRQcoV6jzL8wxVW+NHcDy",
      "include_colab_link": true
    },
    "kernelspec": {
      "name": "python3",
      "display_name": "Python 3"
    },
    "language_info": {
      "name": "python"
    }
  },
  "cells": [
    {
      "cell_type": "markdown",
      "metadata": {
        "id": "view-in-github",
        "colab_type": "text"
      },
      "source": [
        "<a href=\"https://colab.research.google.com/github/David631-GitHub/Clase-29.07.2024/blob/main/01_Python_Basic.ipynb\" target=\"_parent\"><img src=\"https://colab.research.google.com/assets/colab-badge.svg\" alt=\"Open In Colab\"/></a>"
      ]
    },
    {
      "cell_type": "markdown",
      "source": [
        "# **1. What is python?**\n",
        "\n",
        "General programming language\n",
        "\n",
        "* Data analysis\n",
        "* Machine learning\n",
        "* Web scrapping\n",
        "* Create videogames\n",
        "* Create software\n",
        "* Statistical analysis\n"
      ],
      "metadata": {
        "id": "fUo8CvGzX7PE"
      }
    },
    {
      "cell_type": "markdown",
      "source": [
        "# **2. Why Python?**\n",
        "\n",
        "* It is simple\n",
        "* Open-Source\n",
        "* Popular and documentation"
      ],
      "metadata": {
        "id": "2d5e7rEdZIF-"
      }
    },
    {
      "cell_type": "markdown",
      "source": [
        "# **3. As a calculator**\n",
        "\n"
      ],
      "metadata": {
        "id": "JOUACH4DbFOH"
      }
    },
    {
      "cell_type": "code",
      "source": [
        "# Addition\n",
        "2 + 2"
      ],
      "metadata": {
        "colab": {
          "base_uri": "https://localhost:8080/"
        },
        "id": "U-AE10rVbOLl",
        "outputId": "196cff77-709b-43f3-d8de-98e7507d482b"
      },
      "execution_count": null,
      "outputs": [
        {
          "output_type": "execute_result",
          "data": {
            "text/plain": [
              "4"
            ]
          },
          "metadata": {},
          "execution_count": 2
        }
      ]
    },
    {
      "cell_type": "code",
      "source": [
        "# Substaction\n",
        "10 - 2"
      ],
      "metadata": {
        "colab": {
          "base_uri": "https://localhost:8080/"
        },
        "id": "xi6Kl0IQbis4",
        "outputId": "073ad090-551e-406d-e298-49af103c9d86"
      },
      "execution_count": null,
      "outputs": [
        {
          "output_type": "execute_result",
          "data": {
            "text/plain": [
              "8"
            ]
          },
          "metadata": {},
          "execution_count": 4
        }
      ]
    },
    {
      "cell_type": "code",
      "source": [
        "# Multiplication (Eight time seven)\n",
        "8 * 7"
      ],
      "metadata": {
        "colab": {
          "base_uri": "https://localhost:8080/"
        },
        "id": "c_4O9M5XbxNn",
        "outputId": "8c5c4fd5-1c23-4fd0-e25d-ddc43f5aea68"
      },
      "execution_count": null,
      "outputs": [
        {
          "output_type": "execute_result",
          "data": {
            "text/plain": [
              "56"
            ]
          },
          "metadata": {},
          "execution_count": 5
        }
      ]
    },
    {
      "cell_type": "code",
      "source": [
        "# Division\n",
        "10 / 3"
      ],
      "metadata": {
        "colab": {
          "base_uri": "https://localhost:8080/"
        },
        "id": "j7TDeXFNcO5o",
        "outputId": "5f1ba306-6c35-4335-e849-9fc80e6165a1"
      },
      "execution_count": null,
      "outputs": [
        {
          "output_type": "execute_result",
          "data": {
            "text/plain": [
              "3.3333333333333335"
            ]
          },
          "metadata": {},
          "execution_count": 7
        }
      ]
    },
    {
      "cell_type": "code",
      "source": [
        "# Integer-Division\n",
        "10 // 3"
      ],
      "metadata": {
        "colab": {
          "base_uri": "https://localhost:8080/"
        },
        "id": "PXXCUuuydGvx",
        "outputId": "8993752b-7872-459d-b548-b370e20ebe09"
      },
      "execution_count": null,
      "outputs": [
        {
          "output_type": "execute_result",
          "data": {
            "text/plain": [
              "3"
            ]
          },
          "metadata": {},
          "execution_count": 8
        }
      ]
    },
    {
      "cell_type": "code",
      "source": [
        "# Exponential\n",
        "8 ** 2"
      ],
      "metadata": {
        "colab": {
          "base_uri": "https://localhost:8080/"
        },
        "id": "PegZy0-SdYTR",
        "outputId": "62e6714b-78cb-4ee4-ccbb-f4e2e2318f7c"
      },
      "execution_count": null,
      "outputs": [
        {
          "output_type": "execute_result",
          "data": {
            "text/plain": [
              "64"
            ]
          },
          "metadata": {},
          "execution_count": 9
        }
      ]
    },
    {
      "cell_type": "markdown",
      "source": [
        "# **4. Parenthesis**\n"
      ],
      "metadata": {
        "id": "t8jDpVeTFyxh"
      }
    },
    {
      "cell_type": "code",
      "source": [
        "# Whitout parenthesis\n",
        "\n",
        "2 + 3 * 5 / 2\n"
      ],
      "metadata": {
        "colab": {
          "base_uri": "https://localhost:8080/"
        },
        "id": "UVCKtmKOGEKW",
        "outputId": "bd2136eb-addb-44e2-ea71-4294f0263f5e"
      },
      "execution_count": null,
      "outputs": [
        {
          "output_type": "execute_result",
          "data": {
            "text/plain": [
              "9.5"
            ]
          },
          "metadata": {},
          "execution_count": 3
        }
      ]
    },
    {
      "cell_type": "code",
      "source": [
        "# Whit parenthesis\n",
        "\n",
        "(2 + 3) * 5 / 2"
      ],
      "metadata": {
        "colab": {
          "base_uri": "https://localhost:8080/"
        },
        "id": "NW0Bx_fLHrnR",
        "outputId": "ed937c3d-076e-4ebc-b0bd-e5809fd939a1"
      },
      "execution_count": null,
      "outputs": [
        {
          "output_type": "execute_result",
          "data": {
            "text/plain": [
              "12.5"
            ]
          },
          "metadata": {},
          "execution_count": 4
        }
      ]
    },
    {
      "cell_type": "markdown",
      "source": [
        "# **5. Integers and real numbers (Numeros enteros y reales)**"
      ],
      "metadata": {
        "id": "cvMQBAVzGsXj"
      }
    },
    {
      "cell_type": "code",
      "source": [
        "# Integers\n",
        "type (26)"
      ],
      "metadata": {
        "colab": {
          "base_uri": "https://localhost:8080/"
        },
        "id": "RAiM7YqrHTiI",
        "outputId": "800528e7-de3f-4276-98ac-70792f94248c"
      },
      "execution_count": null,
      "outputs": [
        {
          "output_type": "execute_result",
          "data": {
            "text/plain": [
              "int"
            ]
          },
          "metadata": {},
          "execution_count": 2
        }
      ]
    },
    {
      "cell_type": "code",
      "source": [
        "# Real Number\n",
        "type (26.0)"
      ],
      "metadata": {
        "colab": {
          "base_uri": "https://localhost:8080/"
        },
        "id": "njZW99dLHuw6",
        "outputId": "4cc55943-9b90-4251-ada2-aba0b8653291"
      },
      "execution_count": null,
      "outputs": [
        {
          "output_type": "execute_result",
          "data": {
            "text/plain": [
              "float"
            ]
          },
          "metadata": {},
          "execution_count": 5
        }
      ]
    },
    {
      "cell_type": "markdown",
      "source": [
        "# **6. Scientific notacion (Notación cientifica)**"
      ],
      "metadata": {
        "id": "ebFE1sxoKkYo"
      }
    },
    {
      "cell_type": "code",
      "source": [
        "# 50 in scientific notacion\n",
        "5e1"
      ],
      "metadata": {
        "colab": {
          "base_uri": "https://localhost:8080/"
        },
        "id": "mTo5G52vKuHR",
        "outputId": "b472e25f-a492-41c5-8981-f560a26d6dce"
      },
      "execution_count": null,
      "outputs": [
        {
          "output_type": "execute_result",
          "data": {
            "text/plain": [
              "50.0"
            ]
          },
          "metadata": {},
          "execution_count": 6
        }
      ]
    },
    {
      "cell_type": "code",
      "source": [
        "# 0,005 in scientific notacion\n",
        "5e-3"
      ],
      "metadata": {
        "colab": {
          "base_uri": "https://localhost:8080/"
        },
        "id": "-09o0J7bK8MB",
        "outputId": "346ad17a-d5b4-47ec-e0ba-14cda1999307"
      },
      "execution_count": null,
      "outputs": [
        {
          "output_type": "execute_result",
          "data": {
            "text/plain": [
              "0.005"
            ]
          },
          "metadata": {},
          "execution_count": 7
        }
      ]
    },
    {
      "cell_type": "markdown",
      "source": [
        "# **7. Python Basic Functions (Funciones básicas de Python)**"
      ],
      "metadata": {
        "id": "SpTtH2trLGWk"
      }
    },
    {
      "cell_type": "markdown",
      "source": [
        "## 7.1 Print (Imprimir)\n",
        "\n",
        "Permite ver todos los resultados."
      ],
      "metadata": {
        "id": "KBtXwrHuM4Z2"
      }
    },
    {
      "cell_type": "code",
      "source": [
        "# Función print a lo largo de una columna\n",
        "print(5+3)\n",
        "print(2+5)\n",
        "print(10-3)\n",
        "print(2*5 / 2)"
      ],
      "metadata": {
        "colab": {
          "base_uri": "https://localhost:8080/"
        },
        "id": "retfrttpLcLC",
        "outputId": "ed8a6cdd-e470-465e-f87e-d8133555be30"
      },
      "execution_count": null,
      "outputs": [
        {
          "output_type": "stream",
          "name": "stdout",
          "text": [
            "8\n",
            "7\n",
            "7\n",
            "5.0\n"
          ]
        }
      ]
    },
    {
      "cell_type": "code",
      "source": [
        "# Función print a lo largo de una fila.\n",
        "print(5+3, \"/\" , 2+5, \"/\", 10-3, \"/\", 2*5 / 2)"
      ],
      "metadata": {
        "colab": {
          "base_uri": "https://localhost:8080/"
        },
        "id": "akniHw5fNv2h",
        "outputId": "f056a816-a8ea-4418-a7c9-74910f3c9cf2"
      },
      "execution_count": null,
      "outputs": [
        {
          "output_type": "stream",
          "name": "stdout",
          "text": [
            "8 / 7 / 7 / 5.0\n"
          ]
        }
      ]
    },
    {
      "cell_type": "code",
      "source": [
        "# Loop\n",
        "for i in range(0,10): print(i)"
      ],
      "metadata": {
        "colab": {
          "base_uri": "https://localhost:8080/"
        },
        "id": "gEc5-dErONCp",
        "outputId": "997e1cf0-05ba-4306-ae9e-70121cb70e72"
      },
      "execution_count": null,
      "outputs": [
        {
          "output_type": "stream",
          "name": "stdout",
          "text": [
            "0\n",
            "1\n",
            "2\n",
            "3\n",
            "4\n",
            "5\n",
            "6\n",
            "7\n",
            "8\n",
            "9\n"
          ]
        }
      ]
    },
    {
      "cell_type": "code",
      "source": [
        "# Loop, indicanco cada cuanto quiero que salte el resultado\n",
        "for i in range(0,10,2): print(i)"
      ],
      "metadata": {
        "colab": {
          "base_uri": "https://localhost:8080/"
        },
        "id": "gkocOXX8PnW8",
        "outputId": "01df48d2-c507-45e3-8840-31a90e775e55"
      },
      "execution_count": null,
      "outputs": [
        {
          "output_type": "stream",
          "name": "stdout",
          "text": [
            "0\n",
            "2\n",
            "4\n",
            "6\n",
            "8\n"
          ]
        }
      ]
    },
    {
      "cell_type": "code",
      "source": [
        "# Loop, indicanco cada cuanto quiero que salte el resultado, al invertir los numeros de incio y final debo invertir el signo del ultimo paso.\n",
        "for i in range(10,0,-2): print(i)"
      ],
      "metadata": {
        "colab": {
          "base_uri": "https://localhost:8080/"
        },
        "id": "Yi5UKBpdQfkf",
        "outputId": "ee271043-888f-4c4f-8450-001af42bbbde"
      },
      "execution_count": null,
      "outputs": [
        {
          "output_type": "stream",
          "name": "stdout",
          "text": [
            "10\n",
            "8\n",
            "6\n",
            "4\n",
            "2\n"
          ]
        }
      ]
    },
    {
      "cell_type": "code",
      "source": [
        "# Example\n",
        "# Let´s round the number 1.23587\n",
        "\n",
        "print(\"The aproximation of the number\",1.23587,\"with:\")\n",
        "print(\"3 decimals is:\", round(1.23587,3))\n",
        "print(\"2 decimals is:\", round(1.23587,2))\n",
        "print(\"1 decimals is:\", round(1.23587,1))"
      ],
      "metadata": {
        "colab": {
          "base_uri": "https://localhost:8080/"
        },
        "id": "VohiBiQlLhYQ",
        "outputId": "1448dd27-d6ab-496b-e064-987eaf2933d2"
      },
      "execution_count": null,
      "outputs": [
        {
          "output_type": "stream",
          "name": "stdout",
          "text": [
            "The aproximation of the number 1.23587 with:\n",
            "3 decimals is: 1.236\n",
            "2 decimals is: 1.24\n",
            "1 decimals is: 1.2\n"
          ]
        }
      ]
    },
    {
      "cell_type": "code",
      "source": [
        "# Mostrar el mismo resultado de arriba utilisando el codigo for\n",
        "\n",
        "print(\"The aproximation of the number\",1.23587,\"with:\")\n",
        "for i in range(3,0,-1):\n",
        "  print(i,\"decimals is:\", round(1.23587,i))\n",
        "\n"
      ],
      "metadata": {
        "colab": {
          "base_uri": "https://localhost:8080/"
        },
        "id": "vUDU68qLN2R9",
        "outputId": "deee2454-6ac1-4f39-bd4a-d088d0ed07da"
      },
      "execution_count": null,
      "outputs": [
        {
          "output_type": "stream",
          "name": "stdout",
          "text": [
            "The aproximation of the number 1.23587 with:\n",
            "3 decimals is: 1.236\n",
            "2 decimals is: 1.24\n",
            "1 decimals is: 1.2\n"
          ]
        }
      ]
    },
    {
      "cell_type": "code",
      "source": [
        "# Otro ejemplo\n",
        "print(\"The first ten multiple of the table of four \", \"are:\")\n",
        "for i in range(0,40,4):\n",
        "  print(i)\n"
      ],
      "metadata": {
        "colab": {
          "base_uri": "https://localhost:8080/"
        },
        "id": "vpQRtuSDRxOE",
        "outputId": "e475f789-53bb-4f5c-a44e-272c7da85416"
      },
      "execution_count": null,
      "outputs": [
        {
          "output_type": "stream",
          "name": "stdout",
          "text": [
            "The cumulative average for this semester 3.84792 Whit\n",
            "3 decimals is: 3.848\n",
            "2 decimals is: 3.85\n",
            "1 decimals is: 3.8\n"
          ]
        }
      ]
    },
    {
      "cell_type": "markdown",
      "source": [
        "** Something that stores a value **"
      ],
      "metadata": {
        "id": "H_GeYI1ERqeu"
      }
    },
    {
      "cell_type": "code",
      "source": [
        "# Example\n",
        "a = 3.0\n",
        "print(a)\n"
      ],
      "metadata": {
        "colab": {
          "base_uri": "https://localhost:8080/"
        },
        "id": "1Umd0-KYRoou",
        "outputId": "925974b3-ef5c-40b9-cd10-5b6b947fea6e"
      },
      "execution_count": 2,
      "outputs": [
        {
          "output_type": "stream",
          "name": "stdout",
          "text": [
            "3.0\n"
          ]
        }
      ]
    },
    {
      "cell_type": "code",
      "source": [
        "# Example as calculator\n",
        "a = 3.0\n",
        "b = 5.0\n",
        "c = a + b\n",
        "print(c)"
      ],
      "metadata": {
        "colab": {
          "base_uri": "https://localhost:8080/"
        },
        "id": "BdrBpiYhSIl1",
        "outputId": "a9154d94-5788-49a9-84a0-40e551b08561"
      },
      "execution_count": 3,
      "outputs": [
        {
          "output_type": "stream",
          "name": "stdout",
          "text": [
            "8.0\n"
          ]
        }
      ]
    },
    {
      "cell_type": "code",
      "source": [
        "# Chain assingment\n",
        "a, b = 3.0, 5.0\n",
        "print(a+b)"
      ],
      "metadata": {
        "colab": {
          "base_uri": "https://localhost:8080/"
        },
        "id": "Zr5P7qiVSbGm",
        "outputId": "6086a5b0-ae54-4201-b19d-192cca37d31d"
      },
      "execution_count": 5,
      "outputs": [
        {
          "output_type": "stream",
          "name": "stdout",
          "text": [
            "8.0\n"
          ]
        }
      ]
    },
    {
      "cell_type": "code",
      "source": [
        "# Chain Assingment\n",
        "x = y = z = 100\n",
        "print(x,y,z)"
      ],
      "metadata": {
        "colab": {
          "base_uri": "https://localhost:8080/"
        },
        "id": "HuktMUvDTEg0",
        "outputId": "b40748d4-3476-49b1-f2d8-ca94257437d9"
      },
      "execution_count": 6,
      "outputs": [
        {
          "output_type": "stream",
          "name": "stdout",
          "text": [
            "100 100 100\n"
          ]
        }
      ]
    },
    {
      "cell_type": "markdown",
      "source": [
        "# **3. Delete and clear**"
      ],
      "metadata": {
        "id": "isA0rFghTY7b"
      }
    },
    {
      "cell_type": "code",
      "source": [
        "# Delete X and Y\n",
        "del x, y"
      ],
      "metadata": {
        "id": "Xw-4M1b4Tf9N"
      },
      "execution_count": 7,
      "outputs": []
    },
    {
      "cell_type": "code",
      "source": [
        "# Erase all variable\n",
        "%reset"
      ],
      "metadata": {
        "colab": {
          "base_uri": "https://localhost:8080/"
        },
        "id": "XxnSWd1rT0W-",
        "outputId": "43071406-6d75-45a0-bf75-f8d18efe85a2"
      },
      "execution_count": 10,
      "outputs": [
        {
          "name": "stdout",
          "output_type": "stream",
          "text": [
            "Once deleted, variables cannot be recovered. Proceed (y/[n])? y\n"
          ]
        }
      ]
    },
    {
      "cell_type": "markdown",
      "source": [
        "# **Practice**"
      ],
      "metadata": {
        "id": "Gmc6RgsWUcrs"
      }
    },
    {
      "cell_type": "code",
      "source": [
        "# Practice\n",
        "## Aproximate the number 15.476352489\n",
        "## to 1, 2, 3..., 8 decimals and print the results\n",
        "\n",
        "## Use variables\n",
        "a = 15.476352489\n",
        "b = 1\n",
        "c = 9\n",
        "print(\"The aproximation of the number\",a,\"with:\")\n",
        "for i in range(b,c):\n",
        "  print(i,\"decimals is:\", round(a,i))"
      ],
      "metadata": {
        "colab": {
          "base_uri": "https://localhost:8080/"
        },
        "id": "M7zumUaRUhiu",
        "outputId": "216bd059-8eb7-40e9-91e7-5931fe865824"
      },
      "execution_count": 17,
      "outputs": [
        {
          "output_type": "stream",
          "name": "stdout",
          "text": [
            "The aproximation of the number 15.476352489 with:\n",
            "1 decimals is: 15.5\n",
            "2 decimals is: 15.48\n",
            "3 decimals is: 15.476\n",
            "4 decimals is: 15.4764\n",
            "5 decimals is: 15.47635\n",
            "6 decimals is: 15.476352\n",
            "7 decimals is: 15.4763525\n",
            "8 decimals is: 15.47635249\n"
          ]
        }
      ]
    },
    {
      "cell_type": "code",
      "source": [
        "# Something\n",
        "w = 0"
      ],
      "metadata": {
        "id": "tInmDPFVXPko"
      },
      "execution_count": 19,
      "outputs": []
    },
    {
      "cell_type": "code",
      "source": [
        "w += 1"
      ],
      "metadata": {
        "id": "8DdamQZCXtUL"
      },
      "execution_count": 23,
      "outputs": []
    },
    {
      "cell_type": "markdown",
      "source": [
        "# **4. Naming**"
      ],
      "metadata": {
        "id": "JNQQZfB0YDeU"
      }
    },
    {
      "cell_type": "code",
      "source": [
        "# Example\n",
        "x = 26\n",
        "miedades = 26\n",
        "laedadquetengoes = 26\n",
        "MiEdad = 26\n",
        "\n",
        "# La mejor forma para nombrar una variable es de forma corta y concisa y utilizando minusculas\n",
        "\n",
        "mi_age = 26"
      ],
      "metadata": {
        "id": "Wag9SxaRYJEt"
      },
      "execution_count": 26,
      "outputs": []
    },
    {
      "cell_type": "markdown",
      "source": [
        "## **5. Data types**\n"
      ],
      "metadata": {
        "id": "Pxacgu2xZjt3"
      }
    },
    {
      "cell_type": "markdown",
      "source": [
        "## 5.2 Floats"
      ],
      "metadata": {
        "id": "I6ZIr6xyZqy2"
      }
    },
    {
      "cell_type": "markdown",
      "source": [
        "## 5.3 Booleans"
      ],
      "metadata": {
        "id": "0WnRBo1pZyx2"
      }
    },
    {
      "cell_type": "code",
      "source": [
        "red_shirt = True"
      ],
      "metadata": {
        "id": "BILGwcGpZ8QO"
      },
      "execution_count": 27,
      "outputs": []
    },
    {
      "cell_type": "markdown",
      "source": [
        "Boolean expressions"
      ],
      "metadata": {
        "id": "AQqcFzO9aBul"
      }
    },
    {
      "cell_type": "code",
      "source": [
        "x = 2\n",
        "y = 3\n",
        "print (\"x is less than y\",x < y)\n",
        "print (\"x is greater than y\",x < y)\n",
        "print (\"x is equal to y\",x == y)\n",
        "print (\"x is not equal to y\",x != y)\n",
        "print (\"x is greater than or equal to y\",x >= y)\n",
        "print (\"x is less than or equal to y\",x <= y)\n"
      ],
      "metadata": {
        "colab": {
          "base_uri": "https://localhost:8080/"
        },
        "id": "dMY9xOCUaLnj",
        "outputId": "71396dcf-7896-42fc-e184-40542bb5b94a"
      },
      "execution_count": 29,
      "outputs": [
        {
          "output_type": "stream",
          "name": "stdout",
          "text": [
            "x is less than y True\n",
            "x is greater than y True\n",
            "x is equal to y False\n",
            "x is not equal to y True\n",
            "x is greater than or equal to y False\n",
            "x is less than or equal to y True\n"
          ]
        }
      ]
    },
    {
      "cell_type": "markdown",
      "source": [
        "### Boolean math"
      ],
      "metadata": {
        "id": "akSqwy5AbCGN"
      }
    },
    {
      "cell_type": "code",
      "source": [
        "red_shirt = True\n",
        "blue_pants = False\n",
        "print(red_shirt + blue_pants)"
      ],
      "metadata": {
        "colab": {
          "base_uri": "https://localhost:8080/"
        },
        "id": "UYjMb6SobGPo",
        "outputId": "f01d82d4-6d40-40ea-f4b3-0326ce472b49"
      },
      "execution_count": 30,
      "outputs": [
        {
          "output_type": "stream",
          "name": "stdout",
          "text": [
            "1\n"
          ]
        }
      ]
    },
    {
      "cell_type": "markdown",
      "source": [
        "## 5.4 String"
      ],
      "metadata": {
        "id": "AC2ZyeV3c3Bo"
      }
    },
    {
      "cell_type": "code",
      "source": [
        "x = \"La Salle University\"\n",
        "print(x)"
      ],
      "metadata": {
        "colab": {
          "base_uri": "https://localhost:8080/"
        },
        "id": "_IK_c-Ycc6rQ",
        "outputId": "486ff6c2-1c01-4801-c8dc-0b03cef11964"
      },
      "execution_count": 41,
      "outputs": [
        {
          "output_type": "stream",
          "name": "stdout",
          "text": [
            "La Salle University\n"
          ]
        }
      ]
    },
    {
      "cell_type": "markdown",
      "source": [
        "### Index (Indice)"
      ],
      "metadata": {
        "id": "Iaiaf3QMdYj_"
      }
    },
    {
      "cell_type": "code",
      "source": [
        "# Example for extract a unique element\n",
        "print(\"The first element of x is\",x[0])\n",
        "print(\"The second element of x is\",x[1])\n",
        "print(\"The last element of x is\",x[-1])\n",
        "print(\"The second to last element of x is\",x[-2])"
      ],
      "metadata": {
        "colab": {
          "base_uri": "https://localhost:8080/"
        },
        "id": "2JkvdQkZdg16",
        "outputId": "5c00ba3b-e75b-4226-9316-23599a1401d8"
      },
      "execution_count": 44,
      "outputs": [
        {
          "output_type": "stream",
          "name": "stdout",
          "text": [
            "The first element of x is L\n",
            "The second element of x is a\n",
            "The last element of x is y\n",
            "The second to last element of x is t\n"
          ]
        }
      ]
    },
    {
      "cell_type": "code",
      "source": [
        "# Example for extract a word\n",
        "print (\"The first word of x is\",x[0:2])\n",
        "print (\"The second word of x is\",x[3:8])\n",
        "print (\"The last word of x is\",x[-2:])"
      ],
      "metadata": {
        "colab": {
          "base_uri": "https://localhost:8080/"
        },
        "id": "EHh-ShQkeg2X",
        "outputId": "9d83d441-0c24-4719-9881-23c32c7cbf4b"
      },
      "execution_count": 49,
      "outputs": [
        {
          "output_type": "stream",
          "name": "stdout",
          "text": [
            "The first word of x is La\n",
            "The second word of x is Salle\n",
            "The last word of x is ty\n"
          ]
        }
      ]
    },
    {
      "cell_type": "code",
      "source": [
        "f = \"David\"\n",
        "g= \"Avellaneda\"\n",
        "print(f + \" \" + g)"
      ],
      "metadata": {
        "colab": {
          "base_uri": "https://localhost:8080/"
        },
        "id": "RdYD5wg5hW-f",
        "outputId": "3d538902-b62c-4d6e-886c-67ee5c087b82"
      },
      "execution_count": 53,
      "outputs": [
        {
          "output_type": "stream",
          "name": "stdout",
          "text": [
            "David Avellaneda\n"
          ]
        }
      ]
    },
    {
      "cell_type": "markdown",
      "source": [
        "## Methods"
      ],
      "metadata": {
        "id": "lDvtPyaifdGw"
      }
    },
    {
      "cell_type": "code",
      "source": [
        "# Upper case\n",
        "x.upper()"
      ],
      "metadata": {
        "colab": {
          "base_uri": "https://localhost:8080/",
          "height": 35
        },
        "id": "FDzaWcwQfk0y",
        "outputId": "d935d693-d480-4343-dbfe-555b6482bc2d"
      },
      "execution_count": 50,
      "outputs": [
        {
          "output_type": "execute_result",
          "data": {
            "text/plain": [
              "'LA SALLE UNIVERSITY'"
            ],
            "application/vnd.google.colaboratory.intrinsic+json": {
              "type": "string"
            }
          },
          "metadata": {},
          "execution_count": 50
        }
      ]
    },
    {
      "cell_type": "code",
      "source": [
        "# Lower case\n",
        "x.lower()"
      ],
      "metadata": {
        "colab": {
          "base_uri": "https://localhost:8080/",
          "height": 35
        },
        "id": "biFqTti4fuDq",
        "outputId": "1d0ee6ef-b0ab-4b74-e027-f47777dfe508"
      },
      "execution_count": 51,
      "outputs": [
        {
          "output_type": "execute_result",
          "data": {
            "text/plain": [
              "'la salle university'"
            ],
            "application/vnd.google.colaboratory.intrinsic+json": {
              "type": "string"
            }
          },
          "metadata": {},
          "execution_count": 51
        }
      ]
    },
    {
      "cell_type": "code",
      "source": [
        "# Replace\n",
        "nx = x.replace(\" \",\"_\")\n",
        "print(nx)"
      ],
      "metadata": {
        "colab": {
          "base_uri": "https://localhost:8080/"
        },
        "id": "ytgjSuAvf511",
        "outputId": "e5b2286a-b8cd-4649-fd41-7ebc02e710fc"
      },
      "execution_count": 52,
      "outputs": [
        {
          "output_type": "stream",
          "name": "stdout",
          "text": [
            "La_Salle_University\n"
          ]
        }
      ]
    }
  ]
}