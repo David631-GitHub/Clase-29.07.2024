{
  "nbformat": 4,
  "nbformat_minor": 0,
  "metadata": {
    "colab": {
      "provenance": [],
      "authorship_tag": "ABX9TyMFjSOw4+ZtwgOA5sOBfmPh",
      "include_colab_link": true
    },
    "kernelspec": {
      "name": "python3",
      "display_name": "Python 3"
    },
    "language_info": {
      "name": "python"
    }
  },
  "cells": [
    {
      "cell_type": "markdown",
      "metadata": {
        "id": "view-in-github",
        "colab_type": "text"
      },
      "source": [
        "<a href=\"https://colab.research.google.com/github/David631-GitHub/Clase-29.07.2024/blob/main/01_Python_Basic.ipynb\" target=\"_parent\"><img src=\"https://colab.research.google.com/assets/colab-badge.svg\" alt=\"Open In Colab\"/></a>"
      ]
    },
    {
      "cell_type": "markdown",
      "source": [
        "# **1. What is python?**\n",
        "\n",
        "General programming language\n",
        "\n",
        "* Data analysis\n",
        "* Machine learning\n",
        "* Web scrapping\n",
        "* Create videogames\n",
        "* Create software\n",
        "* Statistical analysis\n"
      ],
      "metadata": {
        "id": "fUo8CvGzX7PE"
      }
    },
    {
      "cell_type": "markdown",
      "source": [
        "# **2. Why Python?**\n",
        "\n",
        "* It is simple\n",
        "* Open-Source\n",
        "* Popular and documentation"
      ],
      "metadata": {
        "id": "2d5e7rEdZIF-"
      }
    },
    {
      "cell_type": "markdown",
      "source": [
        "# **3. As a calculator**\n",
        "\n"
      ],
      "metadata": {
        "id": "JOUACH4DbFOH"
      }
    },
    {
      "cell_type": "code",
      "source": [
        "# Addition\n",
        "2 + 2"
      ],
      "metadata": {
        "colab": {
          "base_uri": "https://localhost:8080/"
        },
        "id": "U-AE10rVbOLl",
        "outputId": "196cff77-709b-43f3-d8de-98e7507d482b"
      },
      "execution_count": null,
      "outputs": [
        {
          "output_type": "execute_result",
          "data": {
            "text/plain": [
              "4"
            ]
          },
          "metadata": {},
          "execution_count": 2
        }
      ]
    },
    {
      "cell_type": "code",
      "source": [
        "# Substaction\n",
        "10 - 2"
      ],
      "metadata": {
        "colab": {
          "base_uri": "https://localhost:8080/"
        },
        "id": "xi6Kl0IQbis4",
        "outputId": "073ad090-551e-406d-e298-49af103c9d86"
      },
      "execution_count": null,
      "outputs": [
        {
          "output_type": "execute_result",
          "data": {
            "text/plain": [
              "8"
            ]
          },
          "metadata": {},
          "execution_count": 4
        }
      ]
    },
    {
      "cell_type": "code",
      "source": [
        "# Multiplication (Eight time seven)\n",
        "8 * 7"
      ],
      "metadata": {
        "colab": {
          "base_uri": "https://localhost:8080/"
        },
        "id": "c_4O9M5XbxNn",
        "outputId": "8c5c4fd5-1c23-4fd0-e25d-ddc43f5aea68"
      },
      "execution_count": null,
      "outputs": [
        {
          "output_type": "execute_result",
          "data": {
            "text/plain": [
              "56"
            ]
          },
          "metadata": {},
          "execution_count": 5
        }
      ]
    },
    {
      "cell_type": "code",
      "source": [
        "# Division\n",
        "10 / 3"
      ],
      "metadata": {
        "colab": {
          "base_uri": "https://localhost:8080/"
        },
        "id": "j7TDeXFNcO5o",
        "outputId": "5f1ba306-6c35-4335-e849-9fc80e6165a1"
      },
      "execution_count": null,
      "outputs": [
        {
          "output_type": "execute_result",
          "data": {
            "text/plain": [
              "3.3333333333333335"
            ]
          },
          "metadata": {},
          "execution_count": 7
        }
      ]
    },
    {
      "cell_type": "code",
      "source": [
        "# Integer-Division\n",
        "10 // 3"
      ],
      "metadata": {
        "colab": {
          "base_uri": "https://localhost:8080/"
        },
        "id": "PXXCUuuydGvx",
        "outputId": "8993752b-7872-459d-b548-b370e20ebe09"
      },
      "execution_count": null,
      "outputs": [
        {
          "output_type": "execute_result",
          "data": {
            "text/plain": [
              "3"
            ]
          },
          "metadata": {},
          "execution_count": 8
        }
      ]
    },
    {
      "cell_type": "code",
      "source": [
        "# Exponential\n",
        "8 ** 2"
      ],
      "metadata": {
        "colab": {
          "base_uri": "https://localhost:8080/"
        },
        "id": "PegZy0-SdYTR",
        "outputId": "62e6714b-78cb-4ee4-ccbb-f4e2e2318f7c"
      },
      "execution_count": null,
      "outputs": [
        {
          "output_type": "execute_result",
          "data": {
            "text/plain": [
              "64"
            ]
          },
          "metadata": {},
          "execution_count": 9
        }
      ]
    },
    {
      "cell_type": "markdown",
      "source": [
        "# **4. Parenthesis**\n"
      ],
      "metadata": {
        "id": "t8jDpVeTFyxh"
      }
    },
    {
      "cell_type": "code",
      "source": [
        "# Whitout parenthesis\n",
        "\n",
        "2 + 3 * 5 / 2\n"
      ],
      "metadata": {
        "colab": {
          "base_uri": "https://localhost:8080/"
        },
        "id": "UVCKtmKOGEKW",
        "outputId": "bd2136eb-addb-44e2-ea71-4294f0263f5e"
      },
      "execution_count": 3,
      "outputs": [
        {
          "output_type": "execute_result",
          "data": {
            "text/plain": [
              "9.5"
            ]
          },
          "metadata": {},
          "execution_count": 3
        }
      ]
    },
    {
      "cell_type": "code",
      "source": [
        "# Whit parenthesis\n",
        "\n",
        "(2 + 3) * 5 / 2"
      ],
      "metadata": {
        "colab": {
          "base_uri": "https://localhost:8080/"
        },
        "id": "NW0Bx_fLHrnR",
        "outputId": "ed937c3d-076e-4ebc-b0bd-e5809fd939a1"
      },
      "execution_count": 4,
      "outputs": [
        {
          "output_type": "execute_result",
          "data": {
            "text/plain": [
              "12.5"
            ]
          },
          "metadata": {},
          "execution_count": 4
        }
      ]
    },
    {
      "cell_type": "markdown",
      "source": [
        "# **5. Integers and real numbers (Numeros enteros y reales)**"
      ],
      "metadata": {
        "id": "cvMQBAVzGsXj"
      }
    },
    {
      "cell_type": "code",
      "source": [
        "# Integers\n",
        "type (26)"
      ],
      "metadata": {
        "colab": {
          "base_uri": "https://localhost:8080/"
        },
        "id": "RAiM7YqrHTiI",
        "outputId": "800528e7-de3f-4276-98ac-70792f94248c"
      },
      "execution_count": 2,
      "outputs": [
        {
          "output_type": "execute_result",
          "data": {
            "text/plain": [
              "int"
            ]
          },
          "metadata": {},
          "execution_count": 2
        }
      ]
    },
    {
      "cell_type": "code",
      "source": [
        "# Real Number\n",
        "type (26.0)"
      ],
      "metadata": {
        "colab": {
          "base_uri": "https://localhost:8080/"
        },
        "id": "njZW99dLHuw6",
        "outputId": "4cc55943-9b90-4251-ada2-aba0b8653291"
      },
      "execution_count": 5,
      "outputs": [
        {
          "output_type": "execute_result",
          "data": {
            "text/plain": [
              "float"
            ]
          },
          "metadata": {},
          "execution_count": 5
        }
      ]
    },
    {
      "cell_type": "markdown",
      "source": [
        "# **6. Scientific notacion (Notación cientifica)**"
      ],
      "metadata": {
        "id": "ebFE1sxoKkYo"
      }
    },
    {
      "cell_type": "code",
      "source": [
        "# 50 in scientific notacion\n",
        "5e1"
      ],
      "metadata": {
        "colab": {
          "base_uri": "https://localhost:8080/"
        },
        "id": "mTo5G52vKuHR",
        "outputId": "b472e25f-a492-41c5-8981-f560a26d6dce"
      },
      "execution_count": 6,
      "outputs": [
        {
          "output_type": "execute_result",
          "data": {
            "text/plain": [
              "50.0"
            ]
          },
          "metadata": {},
          "execution_count": 6
        }
      ]
    },
    {
      "cell_type": "code",
      "source": [
        "# 0,005 in scientific notacion\n",
        "5e-3"
      ],
      "metadata": {
        "colab": {
          "base_uri": "https://localhost:8080/"
        },
        "id": "-09o0J7bK8MB",
        "outputId": "346ad17a-d5b4-47ec-e0ba-14cda1999307"
      },
      "execution_count": 7,
      "outputs": [
        {
          "output_type": "execute_result",
          "data": {
            "text/plain": [
              "0.005"
            ]
          },
          "metadata": {},
          "execution_count": 7
        }
      ]
    },
    {
      "cell_type": "markdown",
      "source": [
        "# **7. Python Basic Functions (Funciones básicas de Python)**"
      ],
      "metadata": {
        "id": "SpTtH2trLGWk"
      }
    },
    {
      "cell_type": "markdown",
      "source": [
        "## 7.1 Print (Imprimir)\n",
        "\n",
        "Permite ver todos los resultados."
      ],
      "metadata": {
        "id": "KBtXwrHuM4Z2"
      }
    },
    {
      "cell_type": "code",
      "source": [
        "print(5+3)\n",
        "print(2+5)\n",
        "print(10-3)\n",
        "print(2*5 / 2)"
      ],
      "metadata": {
        "colab": {
          "base_uri": "https://localhost:8080/"
        },
        "id": "retfrttpLcLC",
        "outputId": "ed8a6cdd-e470-465e-f87e-d8133555be30"
      },
      "execution_count": 10,
      "outputs": [
        {
          "output_type": "stream",
          "name": "stdout",
          "text": [
            "8\n",
            "7\n",
            "7\n",
            "5.0\n"
          ]
        }
      ]
    },
    {
      "cell_type": "code",
      "source": [
        "# Función print a lo largo de una fila.\n",
        "print(5+3, \"/\" , 2+5, \"/\", 10-3, \"/\", 2*5 / 2)"
      ],
      "metadata": {
        "colab": {
          "base_uri": "https://localhost:8080/"
        },
        "id": "akniHw5fNv2h",
        "outputId": "f056a816-a8ea-4418-a7c9-74910f3c9cf2"
      },
      "execution_count": 14,
      "outputs": [
        {
          "output_type": "stream",
          "name": "stdout",
          "text": [
            "8 / 7 / 7 / 5.0\n"
          ]
        }
      ]
    },
    {
      "cell_type": "code",
      "source": [
        "# Loop\n",
        "for i in range(0,10): print(i)"
      ],
      "metadata": {
        "colab": {
          "base_uri": "https://localhost:8080/"
        },
        "id": "gEc5-dErONCp",
        "outputId": "997e1cf0-05ba-4306-ae9e-70121cb70e72"
      },
      "execution_count": 13,
      "outputs": [
        {
          "output_type": "stream",
          "name": "stdout",
          "text": [
            "0\n",
            "1\n",
            "2\n",
            "3\n",
            "4\n",
            "5\n",
            "6\n",
            "7\n",
            "8\n",
            "9\n"
          ]
        }
      ]
    },
    {
      "cell_type": "code",
      "source": [
        "# Loop, indicanco cada cuanto quiero que salte el resultado\n",
        "for i in range(0,10,2): print(i)"
      ],
      "metadata": {
        "colab": {
          "base_uri": "https://localhost:8080/"
        },
        "id": "gkocOXX8PnW8",
        "outputId": "01df48d2-c507-45e3-8840-31a90e775e55"
      },
      "execution_count": 15,
      "outputs": [
        {
          "output_type": "stream",
          "name": "stdout",
          "text": [
            "0\n",
            "2\n",
            "4\n",
            "6\n",
            "8\n"
          ]
        }
      ]
    },
    {
      "cell_type": "code",
      "source": [
        "# Loop, indicanco cada cuanto quiero que salte el resultado, al invertir los numeros de incio y final debo invertir el signo del ultimo paso.\n",
        "for i in range(10,0,-2): print(i)"
      ],
      "metadata": {
        "colab": {
          "base_uri": "https://localhost:8080/"
        },
        "id": "Yi5UKBpdQfkf",
        "outputId": "ee271043-888f-4c4f-8450-001af42bbbde"
      },
      "execution_count": 17,
      "outputs": [
        {
          "output_type": "stream",
          "name": "stdout",
          "text": [
            "10\n",
            "8\n",
            "6\n",
            "4\n",
            "2\n"
          ]
        }
      ]
    }
  ]
}