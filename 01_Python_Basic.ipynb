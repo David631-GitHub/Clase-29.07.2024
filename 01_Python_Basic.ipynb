{
  "nbformat": 4,
  "nbformat_minor": 0,
  "metadata": {
    "colab": {
      "provenance": [],
      "authorship_tag": "ABX9TyO6sBnuVtEktf0xtJaYgKDh",
      "include_colab_link": true
    },
    "kernelspec": {
      "name": "python3",
      "display_name": "Python 3"
    },
    "language_info": {
      "name": "python"
    }
  },
  "cells": [
    {
      "cell_type": "markdown",
      "metadata": {
        "id": "view-in-github",
        "colab_type": "text"
      },
      "source": [
        "<a href=\"https://colab.research.google.com/github/David631-GitHub/Clase-29.07.2024/blob/main/01_Python_Basic.ipynb\" target=\"_parent\"><img src=\"https://colab.research.google.com/assets/colab-badge.svg\" alt=\"Open In Colab\"/></a>"
      ]
    },
    {
      "cell_type": "markdown",
      "source": [
        "# **1. What is python?**\n",
        "\n",
        "General programming language\n",
        "\n",
        "* Data analysis\n",
        "* Machine learning\n",
        "* Web scrapping\n",
        "* Create videogames\n",
        "* Create software\n",
        "* Statistical analysis\n"
      ],
      "metadata": {
        "id": "fUo8CvGzX7PE"
      }
    },
    {
      "cell_type": "markdown",
      "source": [
        "# **2. Why Python?**\n",
        "\n",
        "* It is simple\n",
        "* Open-Source\n",
        "* Popular and documentation"
      ],
      "metadata": {
        "id": "2d5e7rEdZIF-"
      }
    },
    {
      "cell_type": "markdown",
      "source": [
        "# **3. As a calculator**\n",
        "\n"
      ],
      "metadata": {
        "id": "JOUACH4DbFOH"
      }
    },
    {
      "cell_type": "code",
      "source": [
        "# Addition\n",
        "2 + 2"
      ],
      "metadata": {
        "colab": {
          "base_uri": "https://localhost:8080/"
        },
        "id": "U-AE10rVbOLl",
        "outputId": "196cff77-709b-43f3-d8de-98e7507d482b"
      },
      "execution_count": 2,
      "outputs": [
        {
          "output_type": "execute_result",
          "data": {
            "text/plain": [
              "4"
            ]
          },
          "metadata": {},
          "execution_count": 2
        }
      ]
    },
    {
      "cell_type": "code",
      "source": [
        "# Substaction\n",
        "10 - 2"
      ],
      "metadata": {
        "colab": {
          "base_uri": "https://localhost:8080/"
        },
        "id": "xi6Kl0IQbis4",
        "outputId": "073ad090-551e-406d-e298-49af103c9d86"
      },
      "execution_count": 4,
      "outputs": [
        {
          "output_type": "execute_result",
          "data": {
            "text/plain": [
              "8"
            ]
          },
          "metadata": {},
          "execution_count": 4
        }
      ]
    },
    {
      "cell_type": "code",
      "source": [
        "# Multiplication (Eight time seven)\n",
        "8 * 7"
      ],
      "metadata": {
        "colab": {
          "base_uri": "https://localhost:8080/"
        },
        "id": "c_4O9M5XbxNn",
        "outputId": "8c5c4fd5-1c23-4fd0-e25d-ddc43f5aea68"
      },
      "execution_count": 5,
      "outputs": [
        {
          "output_type": "execute_result",
          "data": {
            "text/plain": [
              "56"
            ]
          },
          "metadata": {},
          "execution_count": 5
        }
      ]
    },
    {
      "cell_type": "code",
      "source": [
        "# Division\n",
        "10 / 3"
      ],
      "metadata": {
        "colab": {
          "base_uri": "https://localhost:8080/"
        },
        "id": "j7TDeXFNcO5o",
        "outputId": "5f1ba306-6c35-4335-e849-9fc80e6165a1"
      },
      "execution_count": 7,
      "outputs": [
        {
          "output_type": "execute_result",
          "data": {
            "text/plain": [
              "3.3333333333333335"
            ]
          },
          "metadata": {},
          "execution_count": 7
        }
      ]
    },
    {
      "cell_type": "code",
      "source": [
        "# Integer-Division\n",
        "10 // 3"
      ],
      "metadata": {
        "colab": {
          "base_uri": "https://localhost:8080/"
        },
        "id": "PXXCUuuydGvx",
        "outputId": "8993752b-7872-459d-b548-b370e20ebe09"
      },
      "execution_count": 8,
      "outputs": [
        {
          "output_type": "execute_result",
          "data": {
            "text/plain": [
              "3"
            ]
          },
          "metadata": {},
          "execution_count": 8
        }
      ]
    },
    {
      "cell_type": "code",
      "source": [
        "# Exponential\n",
        "8 ** 2"
      ],
      "metadata": {
        "colab": {
          "base_uri": "https://localhost:8080/"
        },
        "id": "PegZy0-SdYTR",
        "outputId": "62e6714b-78cb-4ee4-ccbb-f4e2e2318f7c"
      },
      "execution_count": 9,
      "outputs": [
        {
          "output_type": "execute_result",
          "data": {
            "text/plain": [
              "64"
            ]
          },
          "metadata": {},
          "execution_count": 9
        }
      ]
    }
  ]
}