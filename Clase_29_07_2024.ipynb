{
  "nbformat": 4,
  "nbformat_minor": 0,
  "metadata": {
    "colab": {
      "provenance": [],
      "toc_visible": true,
      "authorship_tag": "ABX9TyOqwMv8NANjyYrlNN+6vemL",
      "include_colab_link": true
    },
    "kernelspec": {
      "name": "python3",
      "display_name": "Python 3"
    },
    "language_info": {
      "name": "python"
    }
  },
  "cells": [
    {
      "cell_type": "markdown",
      "metadata": {
        "id": "view-in-github",
        "colab_type": "text"
      },
      "source": [
        "<a href=\"https://colab.research.google.com/github/David631-GitHub/Clase-29.07.2024/blob/main/Clase_29_07_2024.ipynb\" target=\"_parent\"><img src=\"https://colab.research.google.com/assets/colab-badge.svg\" alt=\"Open In Colab\"/></a>"
      ]
    },
    {
      "cell_type": "markdown",
      "source": [
        "# Text Formating"
      ],
      "metadata": {
        "id": "6heb9iIMHOp0"
      }
    },
    {
      "cell_type": "markdown",
      "source": [
        "## Bold (Negrita)\n",
        "\n",
        "**Jose David Avellaneda Caballero**"
      ],
      "metadata": {
        "id": "G2lgS7tiHkIA"
      }
    },
    {
      "cell_type": "markdown",
      "source": [
        "## Italics (Cursiva)\n",
        "\n",
        "*Jose David Avllaneda Caballero*"
      ],
      "metadata": {
        "id": "3a5KUiN4H7nl"
      }
    },
    {
      "cell_type": "markdown",
      "source": [
        "## Combine bold and italics (Negrita y cursiva)\n",
        "\n",
        "***Jose David Avellaneda Caballero***"
      ],
      "metadata": {
        "id": "2KdCutD-IMwt"
      }
    },
    {
      "cell_type": "markdown",
      "source": [
        "## Underline (Subrrayado)\n",
        "\n",
        "Whit Markdown it not can be done... but...consulting con Gémini\n",
        "<u>Jose David Avellaneda Caballero</u>"
      ],
      "metadata": {
        "id": "2ZXQJK9yIc93"
      }
    },
    {
      "cell_type": "markdown",
      "source": [
        "## Change color, font and size (Cambiar color, fuente y tamaño)\n",
        "\n",
        "<font color=\"green\" face=\"times new roman\" size=4>Jose David Avellaneda Caballero</font>"
      ],
      "metadata": {
        "id": "ewa2-RCrJqWg"
      }
    },
    {
      "cell_type": "code",
      "execution_count": null,
      "metadata": {
        "id": "nJxYhObOE_fI"
      },
      "outputs": [],
      "source": []
    }
  ]
}